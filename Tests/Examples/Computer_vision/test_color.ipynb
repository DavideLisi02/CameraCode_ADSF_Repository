{
 "cells": [
  {
   "cell_type": "code",
   "execution_count": 1,
   "metadata": {},
   "outputs": [
    {
     "ename": "",
     "evalue": "",
     "output_type": "error",
     "traceback": [
      "\u001b[1;31mThe Kernel crashed while executing code in the the current cell or a previous cell. Please review the code in the cell(s) to identify a possible cause of the failure. Click <a href='https://aka.ms/vscodeJupyterKernelCrash'>here</a> for more info. View Jupyter <a href='command:jupyter.viewOutput'>log</a> for further details."
     ]
    }
   ],
   "source": [
    "import cv2\n",
    "import numpy as np\n",
    "\n",
    "def nothing(x):\n",
    "    pass\n",
    "\n",
    "cap = cv2.VideoCapture(0)\n",
    "cv2.namedWindow('image')\n",
    "\n",
    "# create trackbars for color change\n",
    "cv2.createTrackbar('HMin','image',0,179,nothing) # Hue is from 0-179 for Opencv\n",
    "cv2.createTrackbar('SMin','image',0,255,nothing)\n",
    "cv2.createTrackbar('VMin','image',0,255,nothing)\n",
    "cv2.createTrackbar('HMax','image',0,179,nothing)\n",
    "cv2.createTrackbar('SMax','image',0,255,nothing)\n",
    "cv2.createTrackbar('VMax','image',0,255,nothing)\n",
    "\n",
    "\n",
    "while True:\n",
    "\n",
    "    _, frame = cap.read()\n",
    "    hsv = cv2.cvtColor(frame, cv2.COLOR_BGR2HSV)\n",
    "\n",
    "    # get current positions of all trackbars\n",
    "    hMin = cv2.getTrackbarPos('HMin','image')\n",
    "    sMin = cv2.getTrackbarPos('SMin','image')\n",
    "    vMin = cv2.getTrackbarPos('VMin','image')\n",
    "\n",
    "    hMax = cv2.getTrackbarPos('HMax','image')\n",
    "    sMax = cv2.getTrackbarPos('SMax','image')\n",
    "    vMax = cv2.getTrackbarPos('VMax','image')\n",
    "\n",
    "    # Set minimum and max HSV values to display\n",
    "    lower = np.array([hMin, sMin, vMin])\n",
    "    upper = np.array([hMax, sMax, vMax])\n",
    "    mask = cv2.inRange(hsv, lower, upper)\n",
    "\n",
    "  \n",
    "    blurred_img = cv2.GaussianBlur(mask, (5, 5), 0)\n",
    "    edges = cv2.Canny(blurred_img, 100, 255)\n",
    "    # kernel = np.ones((5,5))\n",
    "    # dilImg = cv2.dilate(edges, kernel, iterations=3)\n",
    "    # erodImg = cv2.erode(dilImg, kernel, iterations=2)\n",
    "    cv2.imshow(\"Canny\", edges)\n",
    "    cv2.imshow(\"frame\", frame)\n",
    "    cv2.imshow(\"mask\", mask)\n",
    "\n",
    "    if cv2.waitKey(1) & 0xff == ord('q'):\n",
    "        break"
   ]
  }
 ],
 "metadata": {
  "kernelspec": {
   "display_name": "Python 3",
   "language": "python",
   "name": "python3"
  },
  "language_info": {
   "codemirror_mode": {
    "name": "ipython",
    "version": 3
   },
   "file_extension": ".py",
   "mimetype": "text/x-python",
   "name": "python",
   "nbconvert_exporter": "python",
   "pygments_lexer": "ipython3",
   "version": "3.11.5"
  }
 },
 "nbformat": 4,
 "nbformat_minor": 2
}
