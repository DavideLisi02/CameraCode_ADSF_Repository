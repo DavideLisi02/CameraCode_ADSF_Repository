{
 "cells": [
  {
   "cell_type": "markdown",
   "metadata": {},
   "source": [
    "Importing libraries and loading images"
   ]
  },
  {
   "cell_type": "code",
   "execution_count": 2,
   "metadata": {},
   "outputs": [],
   "source": [
    "import cv2\n",
    "\n",
    "\n",
    "# Load the images\n",
    "imageA1 = cv2.imread('noLight_scenario1.png')  # Image without sunlight\n",
    "imageB1 = cv2.imread('yesLight_scenario1.png')  # Image with sunlight\n",
    "\n",
    "imageA2 = cv2.imread('noLight_scenario2.png')  # Image without sunlight\n",
    "imageB2 = cv2.imread('yesLight_scenario2.png')  # Image with sunlight\n",
    "\n",
    "imageA3 = cv2.imread('noLight_scenario3.png')  # Image without sunlight\n",
    "imageB3 = cv2.imread('yesLight_scenario3.png')  # Image with sunlight"
   ]
  },
  {
   "cell_type": "markdown",
   "metadata": {},
   "source": [
    "Convert to grayscale"
   ]
  },
  {
   "cell_type": "code",
   "execution_count": 3,
   "metadata": {},
   "outputs": [],
   "source": [
    "grayA1 = cv2.cvtColor(imageA1, cv2.COLOR_BGR2GRAY)\n",
    "grayB1 = cv2.cvtColor(imageB1, cv2.COLOR_BGR2GRAY)\n",
    "\n",
    "grayA2 = cv2.cvtColor(imageA2, cv2.COLOR_BGR2GRAY)\n",
    "grayB2 = cv2.cvtColor(imageB2, cv2.COLOR_BGR2GRAY)\n",
    "\n",
    "grayA3 = cv2.cvtColor(imageA2, cv2.COLOR_BGR2GRAY)\n",
    "grayB3 = cv2.cvtColor(imageB2, cv2.COLOR_BGR2GRAY)"
   ]
  },
  {
   "cell_type": "markdown",
   "metadata": {},
   "source": [
    "Compute the absolute difference between the images"
   ]
  },
  {
   "cell_type": "code",
   "execution_count": 4,
   "metadata": {},
   "outputs": [
    {
     "ename": "",
     "evalue": "",
     "output_type": "error",
     "traceback": [
      "\u001b[1;31mThe Kernel crashed while executing code in the current cell or a previous cell. \n",
      "\u001b[1;31mPlease review the code in the cell(s) to identify a possible cause of the failure. \n",
      "\u001b[1;31mClick <a href='https://aka.ms/vscodeJupyterKernelCrash'>here</a> for more info. \n",
      "\u001b[1;31mView Jupyter <a href='command:jupyter.viewOutput'>log</a> for further details."
     ]
    }
   ],
   "source": [
    "diff1 = cv2.absdiff(grayA1, grayB1)\n",
    "\n",
    "diff2 = cv2.absdiff(grayA2, grayB2)\n",
    "\n",
    "diff3 = cv2.absdiff(grayA3, grayB3)\n",
    "\n",
    "cv2.imshow(\"Difference Image (Grayscale)\", diff1)  # Show grayscale difference\n"
   ]
  },
  {
   "cell_type": "markdown",
   "metadata": {},
   "source": [
    "Apply a threshold to highlight the sunlight spot"
   ]
  },
  {
   "cell_type": "code",
   "execution_count": 8,
   "metadata": {},
   "outputs": [],
   "source": [
    "_, thresh1 = cv2.threshold(diff1, 50, 255, cv2.THRESH_BINARY)\n",
    "\n",
    "_, thresh2 = cv2.threshold(diff2, 50, 255, cv2.THRESH_BINARY)\n",
    "\n",
    "_, thresh3 = cv2.threshold(diff3, 50, 255, cv2.THRESH_BINARY)\n",
    "\n",
    "cv2.imshow(\"Thresholded Image\", thresh1)  # Show the result after thresholding"
   ]
  },
  {
   "cell_type": "markdown",
   "metadata": {},
   "source": [
    "Find largest bright area"
   ]
  },
  {
   "cell_type": "code",
   "execution_count": 9,
   "metadata": {},
   "outputs": [],
   "source": [
    "# Find contours of the bright spot\n",
    "contours, _ = cv2.findContours(thresh1, cv2.RETR_EXTERNAL, cv2.CHAIN_APPROX_SIMPLE)\n",
    "\n",
    "# Assuming the largest contour corresponds to the sunlight spot\n",
    "if contours:\n",
    "    largest_contour = max(contours, key=cv2.contourArea)\n",
    "\n",
    "    # Get the bounding box of the spot\n",
    "    x, y, w, h = cv2.boundingRect(largest_contour)\n",
    "\n",
    "    # Optionally, draw a rectangle around the detected spot\n",
    "    result = imageB1.copy()\n",
    "    cv2.rectangle(result, (x, y), (x + w, y + h), (0, 255, 0), 2)\n",
    "\n",
    "    # Show the result\n",
    "    cv2.imshow(\"Sunlight Spot\", result)\n",
    "    cv2.waitKey(0)\n",
    "    cv2.destroyAllWindows()"
   ]
  }
 ],
 "metadata": {
  "kernelspec": {
   "display_name": ".venv",
   "language": "python",
   "name": "python3"
  },
  "language_info": {
   "codemirror_mode": {
    "name": "ipython",
    "version": 3
   },
   "file_extension": ".py",
   "mimetype": "text/x-python",
   "name": "python",
   "nbconvert_exporter": "python",
   "pygments_lexer": "ipython3",
   "version": "3.10.1"
  }
 },
 "nbformat": 4,
 "nbformat_minor": 2
}
